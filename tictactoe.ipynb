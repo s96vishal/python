{
 "cells": [
  {
   "cell_type": "code",
   "execution_count": 1,
   "metadata": {},
   "outputs": [],
   "source": [
    "from IPython.display import clear_output\n",
    "\n",
    "def display_board(board):\n",
    "    clear_output()\n",
    "    \n",
    "    print(\"   |   |   \")\n",
    "    print(f\" {board[7]} | {board[8]} | {board[9]} \")\n",
    "    print(\"   |   |   \")\n",
    "    print(\"------------\")\n",
    "    print(\"   |   |   \")\n",
    "    print(f\" {board[4]} | {board[5]} | {board[6]} \")\n",
    "    print(\"   |   |   \")\n",
    "    print(\"------------\")\n",
    "    print(\"   |   |   \")\n",
    "    print(f\" {board[1]} | {board[2]} | {board[3]} \")\n",
    "    print(\"   |   |   \")\n"
   ]
  },
  {
   "cell_type": "code",
   "execution_count": 2,
   "metadata": {},
   "outputs": [],
   "source": [
    "def player_input():\n",
    "    while True:\n",
    "        choose=str(input(\"what do want to select X or O\"))\n",
    "        if choose =='X'or choose=='O':\n",
    "            if choose=='X':\n",
    "                return ('X','O')\n",
    "            else:\n",
    "                return ('O','X')\n",
    "            break\n",
    "    "
   ]
  },
  {
   "cell_type": "code",
   "execution_count": 3,
   "metadata": {},
   "outputs": [],
   "source": [
    "def place_marker(board, marker, position):\n",
    "    board[position] =marker\n",
    "    display_board(board)\n",
    "    "
   ]
  },
  {
   "cell_type": "code",
   "execution_count": 4,
   "metadata": {},
   "outputs": [],
   "source": [
    "def win_check(board, mark):\n",
    "     return ((board[7] == mark and board[8] == mark and board[9] == mark) or # across the top\n",
    "    (board[4] == mark and board[5] == mark and board[6] == mark) or # across the middle\n",
    "    (board[1] == mark and board[2] == mark and board[3] == mark) or # across the bottom\n",
    "    (board[7] == mark and board[4] == mark and board[1] == mark) or # down the middle\n",
    "    (board[8] == mark and board[5] == mark and board[2] == mark) or # down the middle\n",
    "    (board[9] == mark and board[6] == mark and board[3] == mark) or # down the right side\n",
    "    (board[7] == mark and board[5] == mark and board[3] == mark) or # diagonal\n",
    "    (board[9] == mark and board[5] == mark and board[1] == mark))\n",
    "    \n",
    "\n"
   ]
  },
  {
   "cell_type": "code",
   "execution_count": 5,
   "metadata": {},
   "outputs": [],
   "source": [
    "import random\n",
    "\n",
    "def choose_first():\n",
    "    if random.randint(0,1) == 0:\n",
    "        return 'Player1'\n",
    "    else:\n",
    "        return 'Player2'\n",
    "\n",
    "    \n",
    "    "
   ]
  },
  {
   "cell_type": "code",
   "execution_count": 6,
   "metadata": {},
   "outputs": [],
   "source": [
    "def space_check(board, position):\n",
    "    if board[position]==\" \":\n",
    "        return True\n",
    "    else:\n",
    "        return False\n",
    "    "
   ]
  },
  {
   "cell_type": "code",
   "execution_count": 7,
   "metadata": {},
   "outputs": [],
   "source": [
    "def full_board_check(board):\n",
    "    for x in range(1,10):\n",
    "        if space_check(board,x):\n",
    "            return False\n",
    "    return True\n",
    "        "
   ]
  },
  {
   "cell_type": "code",
   "execution_count": 8,
   "metadata": {},
   "outputs": [],
   "source": [
    "def player_choice(board,playername):\n",
    "    choice = int(input(f\"{playername} Enter your next position (1-9)\"))\n",
    "    if space_check(board,choice):\n",
    "        return choice"
   ]
  },
  {
   "cell_type": "code",
   "execution_count": 9,
   "metadata": {},
   "outputs": [],
   "source": [
    "def replay():\n",
    "    play=str(input(\"Do you want to play again? Yes or no\")).upper()\n",
    "    if play==\"YES\":\n",
    "        return True\n",
    "    else:\n",
    "        return False\n",
    "\n",
    "    "
   ]
  },
  {
   "cell_type": "code",
   "execution_count": 10,
   "metadata": {},
   "outputs": [
    {
     "name": "stdout",
     "output_type": "stream",
     "text": [
      "   |   |   \n",
      " O | X | O \n",
      "   |   |   \n",
      "------------\n",
      "   |   |   \n",
      " X | O |   \n",
      "   |   |   \n",
      "------------\n",
      "   |   |   \n",
      " O | X | X \n",
      "   |   |   \n",
      "congratulation! Player 1 you won the game\n",
      "Do you want to play again? Yes or no\n"
     ]
    }
   ],
   "source": [
    "print('Welcome to Tic Tac Toe!')\n",
    "while True:\n",
    "    testboard=[\" \"]*10\n",
    "    player1_marker,player2_marker =player_input()\n",
    "    turn=choose_first()\n",
    "    print(f\"{turn} will go first\")\n",
    "    \n",
    "    begin =str(input(\"Are you ready to play the game? yes or no\")).lower()\n",
    "    \n",
    "    if begin ==\"yes\":\n",
    "        game_on=True\n",
    "    else:\n",
    "        game_on=False\n",
    "        \n",
    "    while game_on:\n",
    "            if turn ==\"Player1\":\n",
    "                display_board(testboard)\n",
    "                position = player_choice(testboard,turn)\n",
    "                place_marker(testboard,player1_marker,position)\n",
    "                \n",
    "                if win_check(testboard,player1_marker):\n",
    "                    display_board(testboard)\n",
    "                    print(\"congratulation! Player 1 you won the game\")\n",
    "                    game_on =False\n",
    "                else:\n",
    "                    if full_board_check(testboard):\n",
    "                        display_board(testboard)\n",
    "                        print(\"The game is draw\")\n",
    "                        break\n",
    "                    else:\n",
    "                        turn =\"Player2\"\n",
    "            else:\n",
    "                display_board(testboard)\n",
    "                position = player_choice(testboard,turn)\n",
    "                place_marker(testboard,player2_marker,position)\n",
    "                \n",
    "                if win_check(testboard,player2_marker):\n",
    "                    display_board(testboard)\n",
    "                    print(\"congratulation! Player 2 you won the game\")\n",
    "                    game_on =False\n",
    "                else:\n",
    "                    if full_board_check(testboard):\n",
    "                        display_board(testboard)\n",
    "                        print(\"The game is draw\")\n",
    "                        break\n",
    "                    else:\n",
    "                        turn =\"Player1\"\n",
    "                        \n",
    "    if not replay():\n",
    "        break\n",
    "        \n",
    "            "
   ]
  },
  {
   "cell_type": "code",
   "execution_count": null,
   "metadata": {},
   "outputs": [],
   "source": []
  },
  {
   "cell_type": "code",
   "execution_count": null,
   "metadata": {},
   "outputs": [],
   "source": []
  },
  {
   "cell_type": "code",
   "execution_count": null,
   "metadata": {},
   "outputs": [],
   "source": []
  }
 ],
 "metadata": {
  "kernelspec": {
   "display_name": "Python 3",
   "language": "python",
   "name": "python3"
  },
  "language_info": {
   "codemirror_mode": {
    "name": "ipython",
    "version": 3
   },
   "file_extension": ".py",
   "mimetype": "text/x-python",
   "name": "python",
   "nbconvert_exporter": "python",
   "pygments_lexer": "ipython3",
   "version": "3.7.1"
  }
 },
 "nbformat": 4,
 "nbformat_minor": 2
}
